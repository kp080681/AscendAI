{
 "cells": [
  {
   "cell_type": "markdown",
   "id": "49e8d3a1-55aa-46bd-bc28-061e578d5b98",
   "metadata": {},
   "source": [
    "| **Data Science Tools**       |\n",
    "|------------------------------|\n",
    "| Jupyter Notebook             |\n",
    "| RStudio                      |\n",
    "| Spyder                       |\n"
   ]
  },
  {
   "cell_type": "markdown",
   "id": "9333e419-a795-4d08-883e-f54f6ac4f2e7",
   "metadata": {},
   "source": [
    "# Objectives "
   ]
  },
  {
   "cell_type": "markdown",
   "id": "864b8188-a8c4-4387-9830-20ad4de4445d",
   "metadata": {},
   "source": [
    "* Popular languages in data science \n",
    "- Python\n",
    "- R\n",
    "- Julia     \n",
    "- Scala\n",
    "- SQL\n",
    "\n"
   ]
  },
  {
   "cell_type": "markdown",
   "id": "0a5c5296-1ecb-467d-889f-60a4759bfd99",
   "metadata": {},
   "source": [
    "# Examples of arithmetic expressions\n",
    "3 + 5    # Addition\n",
    "10 - 4   # Subtraction\n",
    "6 * 7    # Multiplication\n",
    "8 / 2    # Division\n"
   ]
  },
  {
   "cell_type": "markdown",
   "id": "7f3b7b9f-a283-47a7-85eb-055454384a28",
   "metadata": {},
   "source": [
    "# This a simple arithmetic expression to mutiply then add integers."
   ]
  },
  {
   "cell_type": "code",
   "execution_count": 13,
   "id": "a55d6304-6c9e-4ff4-b345-7437d245e692",
   "metadata": {},
   "outputs": [
    {
     "name": "stdout",
     "output_type": "stream",
     "text": [
      "17\n"
     ]
    }
   ],
   "source": [
    "result = (3 * 4) + 5\n",
    "print(result)"
   ]
  },
  {
   "cell_type": "code",
   "execution_count": 15,
   "id": "d7a81fc5-4578-4c1b-859a-379efbab7876",
   "metadata": {},
   "outputs": [],
   "source": [
    "#  This will convert 200 minutes to hours by diving by 60"
   ]
  },
  {
   "cell_type": "code",
   "execution_count": 17,
   "id": "c5c44dc6-118d-4a5a-bcbc-0cb3e2773617",
   "metadata": {},
   "outputs": [
    {
     "name": "stdout",
     "output_type": "stream",
     "text": [
      "3.3333333333333335\n"
     ]
    }
   ],
   "source": [
    "result = (200/60)\n",
    "print(result)"
   ]
  },
  {
   "cell_type": "code",
   "execution_count": null,
   "id": "d0a5aaaf-e5de-4d1a-b8aa-53d6587e5365",
   "metadata": {},
   "outputs": [],
   "source": []
  }
 ],
 "metadata": {
  "kernelspec": {
   "display_name": "Python [conda env:base] *",
   "language": "python",
   "name": "conda-base-py"
  },
  "language_info": {
   "codemirror_mode": {
    "name": "ipython",
    "version": 3
   },
   "file_extension": ".py",
   "mimetype": "text/x-python",
   "name": "python",
   "nbconvert_exporter": "python",
   "pygments_lexer": "ipython3",
   "version": "3.12.7"
  }
 },
 "nbformat": 4,
 "nbformat_minor": 5
}
