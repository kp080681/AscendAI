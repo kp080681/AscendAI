{
 "cells": [
  {
   "cell_type": "markdown",
   "id": "374e242e-8bf9-4825-9005-1e18399ae0af",
   "metadata": {},
   "source": [
    "## Data Science Fundamentals"
   ]
  },
  {
   "cell_type": "markdown",
   "id": "10595bfe-c107-4a45-812c-21480eeb341f",
   "metadata": {},
   "source": [
    "Data science is an interdisciplinary field that combines statistics, computer science, and domain knowledge to analyze and extract insights from structured and unstructured data. It involves techniques like data cleaning, visualization, and machine learning to uncover patterns, predict outcomes, and support decision-making. With applications ranging from healthcare to marketing, data science plays a crucial role in solving complex real-world problems."
   ]
  },
  {
   "cell_type": "markdown",
   "id": "eae002af-cb1a-4af2-a713-e0cbcd2461db",
   "metadata": {},
   "source": [
    "# Objectives of Data Science Fundamentals\n",
    "\n",
    "- Introduction to data science and its core concepts.\n",
    "- Understanding commonly used programming languages for data science (e.g., Python, R, SQL).\n",
    "- Familiarization with popular data science tools like Jupyter Notebook, RStudio, Tableau, and Apache Spark.\n",
    "- Learning the basics of data manipulation, visualization, and analysis.\n",
    "- Exploring machine learning and statistical methods for predictive modeling."
   ]
  },
  {
   "cell_type": "markdown",
   "id": "eb90abca-b06d-4b9b-a5f2-d4e0d636a8b6",
   "metadata": {},
   "source": [
    "### Common Programming Languages Used in Data Science\n",
    "\n",
    "1. **Python**: Widely used for its simplicity and rich ecosystem of data science libraries like pandas, NumPy, scikit-learn, and TensorFlow.\n",
    "2. **R**: Popular for statistical analysis, data visualization, and research-oriented tasks.\n",
    "3. **SQL**: Essential for querying and managing structured data in databases."
   ]
  },
  {
   "cell_type": "markdown",
   "id": "621c568b-369c-440f-8029-c94532d153e7",
   "metadata": {},
   "source": [
    "### Popular Data Science Libraries\n",
    "\n",
    "#### Python Libraries:\n",
    "1. **pandas**: For data manipulation and analysis.\n",
    "2. **NumPy**: For numerical computations and handling multi-dimensional arrays.\n",
    "3. **scikit-learn**: For machine learning algorithms and tools."
   ]
  },
  {
   "cell_type": "markdown",
   "id": "fa7f9e72-0d39-488b-99cf-81b338d6e7d5",
   "metadata": {},
   "source": [
    "### Data Science Tools\n",
    "\n",
    "| **Tool**                  | **Description**                                                                 | **Use Case**                              |\n",
    "|---------------------------|---------------------------------------------------------------------------------|------------------------------------------|\n",
    "| **Jupyter Notebook**      | An open-source web application for creating and sharing documents with live code, equations, and visualizations. | Data exploration, visualization, and prototyping. |\n",
    "| **RStudio**               | Integrated development environment (IDE) for R.                                 | Statistical analysis and data visualization. |\n",
    "| **Apache Hadoop**         | Framework for distributed storage and processing of large data sets.            | Big data storage and processing.          |"
   ]
  },
  {
   "cell_type": "markdown",
   "id": "6bb5fffd-c804-4849-b13b-462086d1225f",
   "metadata": {},
   "source": [
    "### Arithmetic Expressions in Data Science\n",
    "\n",
    "Arithmetic expressions are used to perform mathematical operations such as addition, subtraction, multiplication, division, and more. These operations are essential for data manipulation and analysis in data science.\n",
    "\n",
    "#### Examples of Arithmetic Expressions:\n",
    "1. **Addition (+)**: `5 + 3 = 8`\n",
    "2. **Subtraction (-)**: `10 - 7 = 3`\n",
    "3. **Multiplication (*)**: `4 * 6 = 24`"
   ]
  },
  {
   "cell_type": "code",
   "execution_count": 14,
   "id": "f7ea8985-f697-4e39-99c6-3b9490e90d28",
   "metadata": {},
   "outputs": [
    {
     "name": "stdout",
     "output_type": "stream",
     "text": [
      "The product of 5 and 4 is: 20\n"
     ]
    }
   ],
   "source": [
    "# Example: Multiplying\n",
    "# Multiplying two numbers\n",
    "product = 5 * 4\n",
    "\n",
    "# Displaying the results\n",
    "print(\"The product of 5 and 4 is:\", product)\n"
   ]
  },
  {
   "cell_type": "code",
   "execution_count": 16,
   "id": "1513db45-fa62-40be-9751-d83bf7214de2",
   "metadata": {
    "scrolled": true
   },
   "outputs": [
    {
     "name": "stdout",
     "output_type": "stream",
     "text": [
      "150 minutes is equal to 2.5 hours.\n"
     ]
    }
   ],
   "source": [
    "# Example: Converting Minutes to Hours\n",
    "# Define the number of minutes\n",
    "minutes = 150\n",
    "\n",
    "# Convert minutes to hours\n",
    "hours = minutes / 60\n",
    "\n",
    "# Display the result\n",
    "print(f\"{minutes} minutes is equal to {hours} hours.\")"
   ]
  },
  {
   "cell_type": "markdown",
   "id": "559f2646-c7e6-4a00-8f97-49f3cee661eb",
   "metadata": {},
   "source": [
    "### Author\n",
    "\n",
    "**Kiran Poojary**"
   ]
  },
  {
   "cell_type": "code",
   "execution_count": null,
   "id": "fa35fc67-a186-46bf-86be-e2d164ba27ab",
   "metadata": {},
   "outputs": [],
   "source": []
  }
 ],
 "metadata": {
  "kernelspec": {
   "display_name": "Python [conda env:base] *",
   "language": "python",
   "name": "conda-base-py"
  },
  "language_info": {
   "codemirror_mode": {
    "name": "ipython",
    "version": 3
   },
   "file_extension": ".py",
   "mimetype": "text/x-python",
   "name": "python",
   "nbconvert_exporter": "python",
   "pygments_lexer": "ipython3",
   "version": "3.12.7"
  }
 },
 "nbformat": 4,
 "nbformat_minor": 5
}
